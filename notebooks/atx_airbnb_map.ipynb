{
 "cells": [
  {
   "cell_type": "code",
   "execution_count": null,
   "id": "3fb12a45",
   "metadata": {},
   "outputs": [],
   "source": [
    "from shapely.geometry import Point\n",
    "import pandas as pd\n",
    "import geopandas as gpd\n",
    "import matplotlib.pyplot as plt\n",
    "import folium\n",
    "from folium.plugins import MarkerCluster\n",
    "from folium.plugins import FastMarkerCluster"
   ]
  },
  {
   "cell_type": "code",
   "execution_count": null,
   "id": "876210de",
   "metadata": {},
   "outputs": [],
   "source": [
    "austin = gpd.read_file('../data/neighbourhoods.geojson')\n",
    "print(austin.crs)\n",
    "austin.head()"
   ]
  },
  {
   "cell_type": "code",
   "execution_count": null,
   "id": "96791ccf",
   "metadata": {},
   "outputs": [],
   "source": [
    "type(austin)"
   ]
  },
  {
   "cell_type": "code",
   "execution_count": null,
   "id": "eb6509b7",
   "metadata": {},
   "outputs": [],
   "source": [
    "austin.loc[0, 'geometry']"
   ]
  },
  {
   "cell_type": "code",
   "execution_count": null,
   "id": "a9063467",
   "metadata": {},
   "outputs": [],
   "source": [
    "print(austin.loc[0, 'geometry'])"
   ]
  },
  {
   "cell_type": "code",
   "execution_count": null,
   "id": "af063d03",
   "metadata": {},
   "outputs": [],
   "source": [
    "austin.plot();"
   ]
  },
  {
   "cell_type": "code",
   "execution_count": null,
   "id": "b31c7451",
   "metadata": {},
   "outputs": [],
   "source": [
    "leg_kwds = {'title': 'Neighbourhoods of Austin, TX', 'loc': 'upper left', \n",
    "            'bbox_to_anchor': (1, 1.03), 'ncol': 2}\n",
    "\n",
    "austin.plot(column = 'neighbourhood', figsize=(10, 10),\n",
    "              edgecolor = 'black',\n",
    "              legend = True, legend_kwds = leg_kwds, \n",
    "              cmap = 'Set2')\n",
    "plt.show()"
   ]
  },
  {
   "cell_type": "code",
   "execution_count": null,
   "id": "c2325fd6",
   "metadata": {
    "scrolled": false
   },
   "outputs": [],
   "source": [
    "airbnb = pd.read_csv('../data/listings.csv')\n",
    "print(airbnb.shape)\n",
    "airbnb.head(3)"
   ]
  },
  {
   "cell_type": "code",
   "execution_count": null,
   "id": "5f75f360",
   "metadata": {},
   "outputs": [],
   "source": [
    "airbnb = airbnb[['id','name','neighbourhood','latitude','longitude','room_type','price']]"
   ]
  },
  {
   "cell_type": "code",
   "execution_count": null,
   "id": "9a56610f",
   "metadata": {},
   "outputs": [],
   "source": [
    "airbnb.head(3)"
   ]
  },
  {
   "cell_type": "code",
   "execution_count": null,
   "id": "7876fb5b",
   "metadata": {},
   "outputs": [],
   "source": [
    "airbnb.info()"
   ]
  },
  {
   "cell_type": "code",
   "execution_count": null,
   "id": "a7f09b24",
   "metadata": {},
   "outputs": [],
   "source": [
    "airbnb['geometry'] = airbnb.apply(lambda x: Point((x.longitude, \n",
    "                                                x.latitude)), \n",
    "                                        axis=1)\n",
    "airbnb.head(3)"
   ]
  },
  {
   "cell_type": "code",
   "execution_count": null,
   "id": "dc95e861",
   "metadata": {},
   "outputs": [],
   "source": [
    "atx_geo = gpd.GeoDataFrame(airbnb, \n",
    "                           crs = austin.crs, \n",
    "                           geometry = airbnb['geometry'])"
   ]
  },
  {
   "cell_type": "code",
   "execution_count": null,
   "id": "0cb6933f",
   "metadata": {},
   "outputs": [],
   "source": [
    "type(atx_geo)"
   ]
  },
  {
   "cell_type": "code",
   "execution_count": null,
   "id": "22126f27",
   "metadata": {},
   "outputs": [],
   "source": [
    "austin.crs"
   ]
  },
  {
   "cell_type": "code",
   "execution_count": null,
   "id": "43aeeeef",
   "metadata": {},
   "outputs": [],
   "source": [
    "atx_area_center = ['30.27','-97.74']\n",
    "print(atx_area_center)  "
   ]
  },
  {
   "cell_type": "code",
   "execution_count": null,
   "id": "ac3935ce",
   "metadata": {},
   "outputs": [],
   "source": [
    "map_atx = folium.Map(location = atx_area_center, zoom_start = 12)\n",
    "map_atx"
   ]
  },
  {
   "cell_type": "code",
   "execution_count": null,
   "id": "73afccfe",
   "metadata": {},
   "outputs": [],
   "source": [
    "i = 0\n",
    "for row_index, row_values in airbnb.iterrows():\n",
    "    if i <3: \n",
    "       print('index is', row_index)\n",
    "       print('values are:')\n",
    "       print(' ')\n",
    "       print(row_values)\n",
    "       print('------------------------- ')\n",
    "       i+=1"
   ]
  },
  {
   "cell_type": "code",
   "execution_count": null,
   "id": "56d4d70e",
   "metadata": {},
   "outputs": [],
   "source": [
    "map_atx = folium.Map(location =  atx_area_center, zoom_start = 12)\n",
    "\n",
    "\n",
    "for row_index, row_values in airbnb.iterrows():\n",
    "    loc = [row_values['latitude'], row_values['longitude']]\n",
    "    pop = str(row_values['name'])\n",
    "    icon=folium.Icon(color=\"orange\",icon=\"home\", prefix='fa')\n",
    "    marker = folium.Marker(\n",
    "    location = loc, \n",
    "    popup = pop, icon = icon)\n",
    "    marker.add_to(map_atx)\n",
    "\n",
    "\n",
    "map_atx.save('../maps/atxairbnb.html')\n",
    "\n",
    "\n",
    "map_atx"
   ]
  },
  {
   "cell_type": "code",
   "execution_count": null,
   "id": "727f38ce",
   "metadata": {},
   "outputs": [],
   "source": [
    "cluster_map_atx = folium.Map(location =  atx_area_center, zoom_start = 12)\n",
    "\n",
    "marker_cluster = MarkerCluster().add_to(cluster_map_atx)\n",
    "\n",
    "\n",
    "for row_index, row_values in airbnb.iterrows():\n",
    "    loc = [row_values['latitude'], row_values['longitude']]\n",
    "    pop = str(row_values['name'])\n",
    "    icon=folium.Icon(color=\"orange\",icon=\"home\", prefix='fa')\n",
    "    marker = folium.Marker(\n",
    "    location = loc, \n",
    "    popup = pop, icon = icon)\n",
    "    marker.add_to(marker_cluster)\n",
    "    \n",
    "cluster_map_atx.save('../maps/atxairbnbcluster.html')\n",
    "\n",
    "cluster_map_atx"
   ]
  }
 ],
 "metadata": {
  "kernelspec": {
   "display_name": "Python 3 (ipykernel)",
   "language": "python",
   "name": "python3"
  },
  "language_info": {
   "codemirror_mode": {
    "name": "ipython",
    "version": 3
   },
   "file_extension": ".py",
   "mimetype": "text/x-python",
   "name": "python",
   "nbconvert_exporter": "python",
   "pygments_lexer": "ipython3",
   "version": "3.8.5"
  }
 },
 "nbformat": 4,
 "nbformat_minor": 5
}
